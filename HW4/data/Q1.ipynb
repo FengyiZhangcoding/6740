{
 "cells": [
  {
   "cell_type": "code",
   "execution_count": 36,
   "metadata": {},
   "outputs": [],
   "source": [
    "import numpy as np \n",
    "import pandas as pd \n",
    "import matplotlib.pyplot as plt\n",
    "from sklearn.decomposition import PCA\n",
    "from sklearn.svm import SVC\n",
    "from sklearn.model_selection import train_test_split\n",
    "from sklearn.neighbors import KNeighborsClassifier\n",
    "from sklearn.naive_bayes import GaussianNB\n",
    "from sklearn.linear_model import LogisticRegression\n",
    "\n",
    "import warnings\n",
    "warnings.filterwarnings('ignore')\n",
    "input_data  = pd.read_csv('data/marriage.csv',header=None)"
   ]
  },
  {
   "cell_type": "code",
   "execution_count": 21,
   "metadata": {},
   "outputs": [],
   "source": [
    "X = input_data.drop([54], axis=1)\n",
    "y = input_data[54]"
   ]
  },
  {
   "cell_type": "code",
   "execution_count": 22,
   "metadata": {},
   "outputs": [
    {
     "data": {
      "text/plain": [
       "0      1.0\n",
       "1      1.0\n",
       "2      1.0\n",
       "3      1.0\n",
       "4      1.0\n",
       "      ... \n",
       "165    0.0\n",
       "166    0.0\n",
       "167    0.0\n",
       "168    0.0\n",
       "169    0.0\n",
       "Name: 54, Length: 170, dtype: float64"
      ]
     },
     "execution_count": 22,
     "metadata": {},
     "output_type": "execute_result"
    }
   ],
   "source": [
    "X\n",
    "y"
   ]
  },
  {
   "cell_type": "code",
   "execution_count": 57,
   "metadata": {},
   "outputs": [],
   "source": [
    "def split(data, target):\n",
    "    train_data, test_data, train_target, test_target = train_test_split(data, target,test_size=0.2,random_state=1)\n",
    "    return train_data, test_data, train_target, test_target\n",
    "train_X, test_X, train_y, test_y = split(X, y)"
   ]
  },
  {
   "cell_type": "code",
   "execution_count": 58,
   "metadata": {},
   "outputs": [
    {
     "data": {
      "text/html": [
       "<div>\n",
       "<style scoped>\n",
       "    .dataframe tbody tr th:only-of-type {\n",
       "        vertical-align: middle;\n",
       "    }\n",
       "\n",
       "    .dataframe tbody tr th {\n",
       "        vertical-align: top;\n",
       "    }\n",
       "\n",
       "    .dataframe thead th {\n",
       "        text-align: right;\n",
       "    }\n",
       "</style>\n",
       "<table border=\"1\" class=\"dataframe\">\n",
       "  <thead>\n",
       "    <tr style=\"text-align: right;\">\n",
       "      <th></th>\n",
       "      <th>0</th>\n",
       "      <th>1</th>\n",
       "      <th>2</th>\n",
       "      <th>3</th>\n",
       "      <th>4</th>\n",
       "      <th>5</th>\n",
       "      <th>6</th>\n",
       "      <th>7</th>\n",
       "      <th>8</th>\n",
       "      <th>9</th>\n",
       "      <th>...</th>\n",
       "      <th>44</th>\n",
       "      <th>45</th>\n",
       "      <th>46</th>\n",
       "      <th>47</th>\n",
       "      <th>48</th>\n",
       "      <th>49</th>\n",
       "      <th>50</th>\n",
       "      <th>51</th>\n",
       "      <th>52</th>\n",
       "      <th>53</th>\n",
       "    </tr>\n",
       "  </thead>\n",
       "  <tbody>\n",
       "    <tr>\n",
       "      <th>59</th>\n",
       "      <td>3.483976</td>\n",
       "      <td>1.941122</td>\n",
       "      <td>2.686167</td>\n",
       "      <td>1.262195</td>\n",
       "      <td>2.976443</td>\n",
       "      <td>1.090918</td>\n",
       "      <td>0.260694</td>\n",
       "      <td>0.777662</td>\n",
       "      <td>4.182120</td>\n",
       "      <td>1.918744</td>\n",
       "      <td>...</td>\n",
       "      <td>3.358683</td>\n",
       "      <td>3.091819</td>\n",
       "      <td>5.237373</td>\n",
       "      <td>2.866842</td>\n",
       "      <td>3.464432</td>\n",
       "      <td>4.421701</td>\n",
       "      <td>4.253829</td>\n",
       "      <td>4.308543</td>\n",
       "      <td>3.786165</td>\n",
       "      <td>2.600348</td>\n",
       "    </tr>\n",
       "    <tr>\n",
       "      <th>66</th>\n",
       "      <td>2.628238</td>\n",
       "      <td>3.147299</td>\n",
       "      <td>-0.045525</td>\n",
       "      <td>3.233305</td>\n",
       "      <td>1.767240</td>\n",
       "      <td>-0.049605</td>\n",
       "      <td>4.346752</td>\n",
       "      <td>2.233495</td>\n",
       "      <td>3.432656</td>\n",
       "      <td>2.398303</td>\n",
       "      <td>...</td>\n",
       "      <td>2.762732</td>\n",
       "      <td>4.100522</td>\n",
       "      <td>4.537587</td>\n",
       "      <td>3.686769</td>\n",
       "      <td>4.065389</td>\n",
       "      <td>1.882435</td>\n",
       "      <td>2.369559</td>\n",
       "      <td>2.574169</td>\n",
       "      <td>0.954178</td>\n",
       "      <td>4.086611</td>\n",
       "    </tr>\n",
       "    <tr>\n",
       "      <th>78</th>\n",
       "      <td>2.765755</td>\n",
       "      <td>1.509094</td>\n",
       "      <td>6.252416</td>\n",
       "      <td>3.845926</td>\n",
       "      <td>3.801164</td>\n",
       "      <td>2.529802</td>\n",
       "      <td>3.429530</td>\n",
       "      <td>2.776962</td>\n",
       "      <td>2.742756</td>\n",
       "      <td>3.599110</td>\n",
       "      <td>...</td>\n",
       "      <td>0.234905</td>\n",
       "      <td>-0.291407</td>\n",
       "      <td>-0.474940</td>\n",
       "      <td>2.922919</td>\n",
       "      <td>3.023083</td>\n",
       "      <td>3.492136</td>\n",
       "      <td>1.676314</td>\n",
       "      <td>1.599028</td>\n",
       "      <td>3.426367</td>\n",
       "      <td>3.496454</td>\n",
       "    </tr>\n",
       "    <tr>\n",
       "      <th>124</th>\n",
       "      <td>-1.449403</td>\n",
       "      <td>0.296963</td>\n",
       "      <td>0.921315</td>\n",
       "      <td>-0.616628</td>\n",
       "      <td>0.400043</td>\n",
       "      <td>0.436951</td>\n",
       "      <td>-1.052638</td>\n",
       "      <td>-0.519168</td>\n",
       "      <td>-0.655073</td>\n",
       "      <td>0.059011</td>\n",
       "      <td>...</td>\n",
       "      <td>2.193427</td>\n",
       "      <td>3.938935</td>\n",
       "      <td>-0.586586</td>\n",
       "      <td>4.205792</td>\n",
       "      <td>0.622446</td>\n",
       "      <td>0.051378</td>\n",
       "      <td>1.617464</td>\n",
       "      <td>0.847050</td>\n",
       "      <td>2.940390</td>\n",
       "      <td>-0.154316</td>\n",
       "    </tr>\n",
       "    <tr>\n",
       "      <th>47</th>\n",
       "      <td>1.854786</td>\n",
       "      <td>4.014510</td>\n",
       "      <td>1.070918</td>\n",
       "      <td>2.240492</td>\n",
       "      <td>3.015278</td>\n",
       "      <td>0.514109</td>\n",
       "      <td>1.080095</td>\n",
       "      <td>2.358953</td>\n",
       "      <td>1.686765</td>\n",
       "      <td>3.126621</td>\n",
       "      <td>...</td>\n",
       "      <td>4.660767</td>\n",
       "      <td>4.179396</td>\n",
       "      <td>3.739538</td>\n",
       "      <td>4.753500</td>\n",
       "      <td>6.510780</td>\n",
       "      <td>1.772781</td>\n",
       "      <td>3.107295</td>\n",
       "      <td>5.065430</td>\n",
       "      <td>5.513347</td>\n",
       "      <td>4.065445</td>\n",
       "    </tr>\n",
       "    <tr>\n",
       "      <th>...</th>\n",
       "      <td>...</td>\n",
       "      <td>...</td>\n",
       "      <td>...</td>\n",
       "      <td>...</td>\n",
       "      <td>...</td>\n",
       "      <td>...</td>\n",
       "      <td>...</td>\n",
       "      <td>...</td>\n",
       "      <td>...</td>\n",
       "      <td>...</td>\n",
       "      <td>...</td>\n",
       "      <td>...</td>\n",
       "      <td>...</td>\n",
       "      <td>...</td>\n",
       "      <td>...</td>\n",
       "      <td>...</td>\n",
       "      <td>...</td>\n",
       "      <td>...</td>\n",
       "      <td>...</td>\n",
       "      <td>...</td>\n",
       "      <td>...</td>\n",
       "    </tr>\n",
       "    <tr>\n",
       "      <th>133</th>\n",
       "      <td>0.624130</td>\n",
       "      <td>1.289427</td>\n",
       "      <td>0.053210</td>\n",
       "      <td>0.942357</td>\n",
       "      <td>-0.932726</td>\n",
       "      <td>0.899235</td>\n",
       "      <td>1.123145</td>\n",
       "      <td>-1.645632</td>\n",
       "      <td>-0.070666</td>\n",
       "      <td>-0.514194</td>\n",
       "      <td>...</td>\n",
       "      <td>-0.942843</td>\n",
       "      <td>1.096071</td>\n",
       "      <td>1.703967</td>\n",
       "      <td>3.736523</td>\n",
       "      <td>3.939598</td>\n",
       "      <td>1.422927</td>\n",
       "      <td>0.948110</td>\n",
       "      <td>0.261571</td>\n",
       "      <td>0.892651</td>\n",
       "      <td>1.250631</td>\n",
       "    </tr>\n",
       "    <tr>\n",
       "      <th>137</th>\n",
       "      <td>0.673742</td>\n",
       "      <td>0.120962</td>\n",
       "      <td>0.621929</td>\n",
       "      <td>-1.057772</td>\n",
       "      <td>-1.483126</td>\n",
       "      <td>0.060500</td>\n",
       "      <td>0.964553</td>\n",
       "      <td>1.071111</td>\n",
       "      <td>0.585703</td>\n",
       "      <td>0.318685</td>\n",
       "      <td>...</td>\n",
       "      <td>4.060896</td>\n",
       "      <td>2.554009</td>\n",
       "      <td>3.119357</td>\n",
       "      <td>3.684311</td>\n",
       "      <td>-0.273755</td>\n",
       "      <td>-0.700677</td>\n",
       "      <td>2.299454</td>\n",
       "      <td>3.581172</td>\n",
       "      <td>2.557556</td>\n",
       "      <td>0.767416</td>\n",
       "    </tr>\n",
       "    <tr>\n",
       "      <th>72</th>\n",
       "      <td>3.469407</td>\n",
       "      <td>4.820100</td>\n",
       "      <td>3.767821</td>\n",
       "      <td>4.017221</td>\n",
       "      <td>3.536957</td>\n",
       "      <td>-0.762685</td>\n",
       "      <td>0.684462</td>\n",
       "      <td>1.805000</td>\n",
       "      <td>3.986669</td>\n",
       "      <td>4.622295</td>\n",
       "      <td>...</td>\n",
       "      <td>3.974974</td>\n",
       "      <td>4.310891</td>\n",
       "      <td>4.771964</td>\n",
       "      <td>2.634815</td>\n",
       "      <td>2.044442</td>\n",
       "      <td>3.034703</td>\n",
       "      <td>3.331750</td>\n",
       "      <td>1.588242</td>\n",
       "      <td>4.734560</td>\n",
       "      <td>2.487572</td>\n",
       "    </tr>\n",
       "    <tr>\n",
       "      <th>140</th>\n",
       "      <td>-0.486447</td>\n",
       "      <td>0.153827</td>\n",
       "      <td>1.326463</td>\n",
       "      <td>-0.030706</td>\n",
       "      <td>1.357540</td>\n",
       "      <td>0.671725</td>\n",
       "      <td>-0.209945</td>\n",
       "      <td>-0.320449</td>\n",
       "      <td>-0.443117</td>\n",
       "      <td>1.099252</td>\n",
       "      <td>...</td>\n",
       "      <td>0.947061</td>\n",
       "      <td>0.284391</td>\n",
       "      <td>1.219384</td>\n",
       "      <td>1.835424</td>\n",
       "      <td>1.213555</td>\n",
       "      <td>-0.158961</td>\n",
       "      <td>1.308411</td>\n",
       "      <td>3.480948</td>\n",
       "      <td>3.945008</td>\n",
       "      <td>1.724992</td>\n",
       "    </tr>\n",
       "    <tr>\n",
       "      <th>37</th>\n",
       "      <td>3.213746</td>\n",
       "      <td>4.492741</td>\n",
       "      <td>3.004320</td>\n",
       "      <td>3.309658</td>\n",
       "      <td>1.312489</td>\n",
       "      <td>0.654241</td>\n",
       "      <td>-0.031275</td>\n",
       "      <td>3.735115</td>\n",
       "      <td>2.597728</td>\n",
       "      <td>1.345422</td>\n",
       "      <td>...</td>\n",
       "      <td>4.773451</td>\n",
       "      <td>3.447745</td>\n",
       "      <td>3.696598</td>\n",
       "      <td>3.528048</td>\n",
       "      <td>3.402601</td>\n",
       "      <td>3.440651</td>\n",
       "      <td>3.840928</td>\n",
       "      <td>2.210459</td>\n",
       "      <td>3.726875</td>\n",
       "      <td>5.046506</td>\n",
       "    </tr>\n",
       "  </tbody>\n",
       "</table>\n",
       "<p>136 rows × 54 columns</p>\n",
       "</div>"
      ],
      "text/plain": [
       "           0         1         2         3         4         5         6   \\\n",
       "59   3.483976  1.941122  2.686167  1.262195  2.976443  1.090918  0.260694   \n",
       "66   2.628238  3.147299 -0.045525  3.233305  1.767240 -0.049605  4.346752   \n",
       "78   2.765755  1.509094  6.252416  3.845926  3.801164  2.529802  3.429530   \n",
       "124 -1.449403  0.296963  0.921315 -0.616628  0.400043  0.436951 -1.052638   \n",
       "47   1.854786  4.014510  1.070918  2.240492  3.015278  0.514109  1.080095   \n",
       "..        ...       ...       ...       ...       ...       ...       ...   \n",
       "133  0.624130  1.289427  0.053210  0.942357 -0.932726  0.899235  1.123145   \n",
       "137  0.673742  0.120962  0.621929 -1.057772 -1.483126  0.060500  0.964553   \n",
       "72   3.469407  4.820100  3.767821  4.017221  3.536957 -0.762685  0.684462   \n",
       "140 -0.486447  0.153827  1.326463 -0.030706  1.357540  0.671725 -0.209945   \n",
       "37   3.213746  4.492741  3.004320  3.309658  1.312489  0.654241 -0.031275   \n",
       "\n",
       "           7         8         9   ...        44        45        46  \\\n",
       "59   0.777662  4.182120  1.918744  ...  3.358683  3.091819  5.237373   \n",
       "66   2.233495  3.432656  2.398303  ...  2.762732  4.100522  4.537587   \n",
       "78   2.776962  2.742756  3.599110  ...  0.234905 -0.291407 -0.474940   \n",
       "124 -0.519168 -0.655073  0.059011  ...  2.193427  3.938935 -0.586586   \n",
       "47   2.358953  1.686765  3.126621  ...  4.660767  4.179396  3.739538   \n",
       "..        ...       ...       ...  ...       ...       ...       ...   \n",
       "133 -1.645632 -0.070666 -0.514194  ... -0.942843  1.096071  1.703967   \n",
       "137  1.071111  0.585703  0.318685  ...  4.060896  2.554009  3.119357   \n",
       "72   1.805000  3.986669  4.622295  ...  3.974974  4.310891  4.771964   \n",
       "140 -0.320449 -0.443117  1.099252  ...  0.947061  0.284391  1.219384   \n",
       "37   3.735115  2.597728  1.345422  ...  4.773451  3.447745  3.696598   \n",
       "\n",
       "           47        48        49        50        51        52        53  \n",
       "59   2.866842  3.464432  4.421701  4.253829  4.308543  3.786165  2.600348  \n",
       "66   3.686769  4.065389  1.882435  2.369559  2.574169  0.954178  4.086611  \n",
       "78   2.922919  3.023083  3.492136  1.676314  1.599028  3.426367  3.496454  \n",
       "124  4.205792  0.622446  0.051378  1.617464  0.847050  2.940390 -0.154316  \n",
       "47   4.753500  6.510780  1.772781  3.107295  5.065430  5.513347  4.065445  \n",
       "..        ...       ...       ...       ...       ...       ...       ...  \n",
       "133  3.736523  3.939598  1.422927  0.948110  0.261571  0.892651  1.250631  \n",
       "137  3.684311 -0.273755 -0.700677  2.299454  3.581172  2.557556  0.767416  \n",
       "72   2.634815  2.044442  3.034703  3.331750  1.588242  4.734560  2.487572  \n",
       "140  1.835424  1.213555 -0.158961  1.308411  3.480948  3.945008  1.724992  \n",
       "37   3.528048  3.402601  3.440651  3.840928  2.210459  3.726875  5.046506  \n",
       "\n",
       "[136 rows x 54 columns]"
      ]
     },
     "execution_count": 58,
     "metadata": {},
     "output_type": "execute_result"
    }
   ],
   "source": [
    "train_X"
   ]
  },
  {
   "cell_type": "code",
   "execution_count": 59,
   "metadata": {},
   "outputs": [
    {
     "data": {
      "text/plain": [
       "array([1., 0., 1., 1., 0., 0., 0., 1., 0., 0., 1., 0., 0., 0., 1., 0., 0.,\n",
       "       0., 0., 0., 1., 1., 0., 1., 0., 1., 0., 1., 0., 1., 1., 0., 0., 0.])"
      ]
     },
     "execution_count": 59,
     "metadata": {},
     "output_type": "execute_result"
    }
   ],
   "source": [
    "def KNN(X,y):\n",
    "    neigh = KNeighborsClassifier(n_neighbors=3)\n",
    "    return neigh.fit(train_X, train_y)\n",
    "knn=KNN(train_X,train_y)\n",
    "knn.predict(test_X)"
   ]
  },
  {
   "cell_type": "code",
   "execution_count": 60,
   "metadata": {},
   "outputs": [
    {
     "data": {
      "text/plain": [
       "array([1., 0., 1., 1., 0., 0., 0., 1., 0., 0., 1., 0., 0., 0., 1., 0., 0.,\n",
       "       0., 0., 0., 1., 1., 0., 1., 0., 1., 0., 1., 0., 1., 1., 0., 0., 0.])"
      ]
     },
     "execution_count": 60,
     "metadata": {},
     "output_type": "execute_result"
    }
   ],
   "source": [
    "def LR(X,y):\n",
    "    lm = LogisticRegression(random_state=0)\n",
    "    return lm.fit(X, y)\n",
    "lr=LR(train_X,train_y)\n",
    "lr.predict(test_X)"
   ]
  },
  {
   "cell_type": "code",
   "execution_count": 61,
   "metadata": {},
   "outputs": [
    {
     "data": {
      "text/plain": [
       "array([1., 0., 1., 1., 0., 0., 0., 1., 0., 0., 1., 0., 0., 0., 1., 0., 0.,\n",
       "       0., 0., 0., 1., 1., 0., 1., 0., 1., 0., 1., 0., 1., 1., 0., 0., 0.])"
      ]
     },
     "execution_count": 61,
     "metadata": {},
     "output_type": "execute_result"
    }
   ],
   "source": [
    "def NB(X,y):\n",
    "    gnb = GaussianNB(var_smoothing=1e-3)\n",
    "    return gnb.fit(X, y)\n",
    "nb=NB(train_X,train_y)\n",
    "nb.predict(test_X)"
   ]
  },
  {
   "cell_type": "code",
   "execution_count": 64,
   "metadata": {},
   "outputs": [],
   "source": [
    "def pcatrain(data):\n",
    "    pca_raw = PCA(n_components=2).fit(data) \n",
    "    return pca_raw\n",
    "pca_X=pcatrain(X).transform(X)"
   ]
  },
  {
   "cell_type": "code",
   "execution_count": 92,
   "metadata": {},
   "outputs": [
    {
     "data": {
      "image/png": "[encoded data removed]",
      "text/plain": [
       "<Figure size 432x288 with 1 Axes>"
      ]
     },
     "metadata": {
      "needs_background": "light"
     },
     "output_type": "display_data"
    }
   ],
   "source": [
    "def show_plot(test_X,test_y): \n",
    "    ty=np.asarray(test_y)\n",
    "    for i in range(len(ty)):\n",
    "\n",
    "        if ty[i]==1:\n",
    "            c='red'\n",
    "        else:\n",
    "            c=\"blue\"\n",
    "        plt.scatter(test_X[i,0],test_X[i,1],  color = c)\n",
    "show_plot(test_X,test_y)"
   ]
  },
  {
   "cell_type": "code",
   "execution_count": 65,
   "metadata": {},
   "outputs": [],
   "source": [
    "train_X, test_X, train_y, test_y = split(pca_X, y)"
   ]
  },
  {
   "cell_type": "code",
   "execution_count": 93,
   "metadata": {},
   "outputs": [
    {
     "data": {
      "image/png": "[encoded data removed]",
      "text/plain": [
       "<Figure size 432x288 with 1 Axes>"
      ]
     },
     "metadata": {
      "needs_background": "light"
     },
     "output_type": "display_data"
    }
   ],
   "source": [
    "knn=KNN(train_X,train_y)\n",
    "ty=knn.predict(test_X)\n",
    "show_plot(test_X,ty)"
   ]
  },
  {
   "cell_type": "code",
   "execution_count": 95,
   "metadata": {},
   "outputs": [
    {
     "data": {
      "image/png": "[encoded data removed]",
      "text/plain": [
       "<Figure size 432x288 with 1 Axes>"
      ]
     },
     "metadata": {
      "needs_background": "light"
     },
     "output_type": "display_data"
    }
   ],
   "source": [
    "lr=LR(train_X,train_y)\n",
    "lr.predict(test_X)\n",
    "show_plot(test_X,ty)"
   ]
  },
  {
   "cell_type": "code",
   "execution_count": 94,
   "metadata": {},
   "outputs": [
    {
     "data": {
      "image/png": "[encoded data removed]",
      "text/plain": [
       "<Figure size 432x288 with 1 Axes>"
      ]
     },
     "metadata": {
      "needs_background": "light"
     },
     "output_type": "display_data"
    }
   ],
   "source": [
    "nb=NB(train_X,train_y)\n",
    "nb.predict(test_X)\n",
    "show_plot(test_X,ty)"
   ]
  },
  {
   "cell_type": "code",
   "execution_count": 71,
   "metadata": {},
   "outputs": [
    {
     "data": {
      "text/plain": [
       "<matplotlib.collections.PathCollection at 0x1dd733a3790>"
      ]
     },
     "execution_count": 71,
     "metadata": {},
     "output_type": "execute_result"
    },
    {
     "data": {
      "image/png": "[encoded data removed]",
      "text/plain": [
       "<Figure size 432x288 with 1 Axes>"
      ]
     },
     "metadata": {
      "needs_background": "light"
     },
     "output_type": "display_data"
    }
   ],
   "source": [
    "plt.scatter(test_X[:,0],test_X[:,1],)"
   ]
  },
  {
   "cell_type": "code",
   "execution_count": 70,
   "metadata": {},
   "outputs": [
    {
     "data": {
      "text/plain": [
       "array([ 11.51381007, -11.39922267,  12.44619757,  11.28950394,\n",
       "        -8.08373443, -10.14282122,  -8.71646817,  12.20624576,\n",
       "       -10.77472743,  -9.09232197,  16.66229658,  -6.13120798,\n",
       "       -10.66265306, -11.35544866,   9.70603921,  -9.78568426,\n",
       "       -10.03255978,  -8.32862786,  -9.04791696,  -8.83253836,\n",
       "        13.19692202,  11.22196932,  -9.31154122,  11.05857006,\n",
       "       -10.3844347 ,  10.02998355, -13.03928939,  14.23928243,\n",
       "       -10.24112623,   9.93067501,   8.32308164,  -7.45495727,\n",
       "        -6.56816654, -11.90940593])"
      ]
     },
     "execution_count": 70,
     "metadata": {},
     "output_type": "execute_result"
    }
   ],
   "source": [
    "test_X[:,0]"
   ]
  },
  {
   "cell_type": "code",
   "execution_count": 106,
   "metadata": {},
   "outputs": [],
   "source": [
    "from sklearn import svm\n",
    "import scipy.io\n",
    "mat = scipy.io.loadmat('data/mnist_10digits.mat')\n",
    "train_X=mat['xtrain']\n",
    "train_y=mat['ytrain']\n",
    "test_X=mat['xtest']\n",
    "test_y=mat['ytest']"
   ]
  },
  {
   "cell_type": "code",
   "execution_count": 119,
   "metadata": {},
   "outputs": [
    {
     "data": {
      "text/plain": [
       "array([7, 2, 1, ..., 4, 5, 6], dtype=int64)"
      ]
     },
     "execution_count": 119,
     "metadata": {},
     "output_type": "execute_result"
    }
   ],
   "source": [
    "def Normal_SVM(X, y,xtest):\n",
    "    train=svm.SVC().fit(X, y)\n",
    "    return train.predict(xtest)\n",
    "Normal_SVM(train_X, train_y[0],xtest)"
   ]
  },
  {
   "cell_type": "code",
   "execution_count": 118,
   "metadata": {},
   "outputs": [
    {
     "data": {
      "text/plain": [
       "array([5, 0, 4, ..., 5, 6, 8], dtype=int64)"
      ]
     },
     "execution_count": 118,
     "metadata": {},
     "output_type": "execute_result"
    }
   ],
   "source": [
    "train_y[0].shape\n"
   ]
  },
  {
   "cell_type": "code",
   "execution_count": 115,
   "metadata": {},
   "outputs": [
    {
     "data": {
      "text/plain": [
       "(60000, 784)"
      ]
     },
     "execution_count": 115,
     "metadata": {},
     "output_type": "execute_result"
    }
   ],
   "source": [
    "train_X.shape"
   ]
  },
  {
   "cell_type": "code",
   "execution_count": null,
   "metadata": {},
   "outputs": [],
   "source": []
  }
 ],
 "metadata": {
  "kernelspec": {
   "display_name": "Python 3",
   "language": "python",
   "name": "python3"
  },
  "language_info": {
   "codemirror_mode": {
    "name": "ipython",
    "version": 3
   },
   "file_extension": ".py",
   "mimetype": "text/x-python",
   "name": "python",
   "nbconvert_exporter": "python",
   "pygments_lexer": "ipython3",
   "version": "3.8.5"
  }
 },
 "nbformat": 4,
 "nbformat_minor": 4
}
