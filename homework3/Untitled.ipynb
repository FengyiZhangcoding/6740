{
 "cells": [],
 "metadata": {},
 "nbformat": 4,
 "nbformat_minor": 4
}
import pandas as pd
path = 'n90pol.csv'
X_plot = np.linspace(-5, 5, 100)[:, np.newaxis]
data=pd.read_csv(path,header=None).to_numpy()
amygdala=list(map(float,data[1:,0]))
acc=list(map(float,data[1:,1]))
orientation=list(map(float,data[1:,2]))
np.random.seed(1)
size=len(amygdala)

nbin = 10     # you can change the number of bins in each dimension
fig, ax = plt.subplots(2, 2)
fig.subplots_adjust(hspace=0.2, wspace=0.2)

# histogram 1
X=amygdala
min_data = min(X)
max_data = max(X)
X=np.asarray(X).reshape((size,1))
boundary = np.linspace(min_data-0.01, max_data, nbin)
ax[0, 0].hist(X[:,0], bins=boundary, fc='#AAAAFF', **density_param)
ax[0, 0].text(-.07, 17, "Amygdala Histogram")

# tophat KDE
kde = KernelDensity(kernel='gaussian', bandwidth=1.5).fit(X)
log_dens = kde.score_samples(X_plot)
ax[1, 0].fill(X_plot[:, 0], np.exp(log_dens), fc='#AAAAFF')
ax[1, 0].text(-0.1, -0.1, "Amygdala Kernel Density")

# histogram 2
X=acc
min_data = min(X)
max_data = max(X)
X=np.asarray(X).reshape((size,1))
boundary = np.linspace(min_data-0.01, max_data, nbin)
ax[0, 1].hist(X[:,0], bins=boundary, fc='#AAAAFF', **density_param)
ax[0, 1].text(-.025, 32, "ACC Histogram")

# Gaussian KDE
kde = KernelDensity(kernel='gaussian', bandwidth=1.5).fit(X)
log_dens = kde.score_samples(X_plot)
ax[1, 1].fill(X_plot[:, 0], np.exp(log_dens), fc='#AAAAFF')
ax[1, 1].text(-0.1, -0.1, "ACC Kernel Density")
# for 2 dimensional data
pdata=data[1:,:2].astype(float)
min_data = pdata.min(0)
max_data = pdata.max(0)
nbin = 30        # you can change the number of bins in each dimension
fig = plt.figure()
ax = fig.add_subplot(111, projection='3d')
hist, xedges, yedges = np.histogram2d(pdata[:,0], pdata[:,1], bins=nbin)
xpos, ypos = np.meshgrid(xedges[:-1]+xedges[1:], yedges[:-1]+yedges[1:])
xpos = xpos.flatten()/2.
ypos = ypos.flatten()/2.
zpos = np.zeros_like (xpos)
dx = xedges [1] - xedges [0]
dy = yedges [1] - yedges [0]
dz = hist.flatten()
ax.bar3d(xpos, ypos, zpos, dx, dy, dz )
