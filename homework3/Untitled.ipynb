{
 "cells": [],
 "metadata": {},
 "nbformat": 4,
 "nbformat_minor": 4
}
import pandas as pd
path = 'n90pol.csv'
X_plot = np.linspace(-5, 10, 1000)[:, np.newaxis]
data=pd.read_csv(path,header=None).to_numpy()
amygdala=list(map(float,data[1:,0]))
acc=list(map(float,data[1:,1]))
orientation=list(map(float,data[1:,2]))
np.random.seed(1)
size=len(amygdala)
X=amygdala
min_data = min(X)
max_data = max(X)
nbin = 10     # you can change the number of bins in each dimension

boundary = np.linspace(min_data-0.01, max_data, nbin)

fig, ax = plt.subplots(2, 2)
fig.subplots_adjust(hspace=0.1, wspace=0.1)

# histogram 1
ax[0, 0].hist(X, bins=boundary, fc='#AAAAFF', **density_param)
ax[0, 0].text(-.07, 17, "Histogram")
