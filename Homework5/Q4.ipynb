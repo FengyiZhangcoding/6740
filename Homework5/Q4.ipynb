{
 "cells": [
  {
   "cell_type": "code",
   "execution_count": 29,
   "metadata": {},
   "outputs": [],
   "source": [
    "import pandas as pd\n",
    "import numpy as np\n",
    "import sklearn\n",
    "import matplotlib.pyplot as plt\n",
    "from sklearn.linear_model import Ridge\n",
    "from sklearn.model_selection import cross_val_score\n",
    "df  = pd.read_csv('data/RealEstate.csv')"
   ]
  },
  {
   "cell_type": "code",
   "execution_count": 30,
   "metadata": {},
   "outputs": [
    {
     "data": {
      "text/html": [
       "<div>\n",
       "<style scoped>\n",
       "    .dataframe tbody tr th:only-of-type {\n",
       "        vertical-align: middle;\n",
       "    }\n",
       "\n",
       "    .dataframe tbody tr th {\n",
       "        vertical-align: top;\n",
       "    }\n",
       "\n",
       "    .dataframe thead th {\n",
       "        text-align: right;\n",
       "    }\n",
       "</style>\n",
       "<table border=\"1\" class=\"dataframe\">\n",
       "  <thead>\n",
       "    <tr style=\"text-align: right;\">\n",
       "      <th></th>\n",
       "      <th>MLS</th>\n",
       "      <th>Location</th>\n",
       "      <th>Price</th>\n",
       "      <th>Bedrooms</th>\n",
       "      <th>Bathrooms</th>\n",
       "      <th>Size</th>\n",
       "      <th>Price/SQ.Ft</th>\n",
       "      <th>Status</th>\n",
       "    </tr>\n",
       "  </thead>\n",
       "  <tbody>\n",
       "    <tr>\n",
       "      <th>0</th>\n",
       "      <td>132842</td>\n",
       "      <td>Arroyo Grande</td>\n",
       "      <td>795000.0</td>\n",
       "      <td>3</td>\n",
       "      <td>3</td>\n",
       "      <td>2371</td>\n",
       "      <td>335.30</td>\n",
       "      <td>Short Sale</td>\n",
       "    </tr>\n",
       "    <tr>\n",
       "      <th>1</th>\n",
       "      <td>134364</td>\n",
       "      <td>Paso Robles</td>\n",
       "      <td>399000.0</td>\n",
       "      <td>4</td>\n",
       "      <td>3</td>\n",
       "      <td>2818</td>\n",
       "      <td>141.59</td>\n",
       "      <td>Short Sale</td>\n",
       "    </tr>\n",
       "    <tr>\n",
       "      <th>2</th>\n",
       "      <td>135141</td>\n",
       "      <td>Paso Robles</td>\n",
       "      <td>545000.0</td>\n",
       "      <td>4</td>\n",
       "      <td>3</td>\n",
       "      <td>3032</td>\n",
       "      <td>179.75</td>\n",
       "      <td>Short Sale</td>\n",
       "    </tr>\n",
       "    <tr>\n",
       "      <th>3</th>\n",
       "      <td>135712</td>\n",
       "      <td>Morro Bay</td>\n",
       "      <td>909000.0</td>\n",
       "      <td>4</td>\n",
       "      <td>4</td>\n",
       "      <td>3540</td>\n",
       "      <td>256.78</td>\n",
       "      <td>Short Sale</td>\n",
       "    </tr>\n",
       "    <tr>\n",
       "      <th>4</th>\n",
       "      <td>136282</td>\n",
       "      <td>Santa Maria-Orcutt</td>\n",
       "      <td>109900.0</td>\n",
       "      <td>3</td>\n",
       "      <td>1</td>\n",
       "      <td>1249</td>\n",
       "      <td>87.99</td>\n",
       "      <td>Short Sale</td>\n",
       "    </tr>\n",
       "    <tr>\n",
       "      <th>...</th>\n",
       "      <td>...</td>\n",
       "      <td>...</td>\n",
       "      <td>...</td>\n",
       "      <td>...</td>\n",
       "      <td>...</td>\n",
       "      <td>...</td>\n",
       "      <td>...</td>\n",
       "      <td>...</td>\n",
       "    </tr>\n",
       "    <tr>\n",
       "      <th>776</th>\n",
       "      <td>154562</td>\n",
       "      <td>Paso Robles</td>\n",
       "      <td>319900.0</td>\n",
       "      <td>3</td>\n",
       "      <td>3</td>\n",
       "      <td>1605</td>\n",
       "      <td>199.31</td>\n",
       "      <td>Regular</td>\n",
       "    </tr>\n",
       "    <tr>\n",
       "      <th>777</th>\n",
       "      <td>154565</td>\n",
       "      <td>Paso Robles</td>\n",
       "      <td>495000.0</td>\n",
       "      <td>3</td>\n",
       "      <td>2</td>\n",
       "      <td>1877</td>\n",
       "      <td>263.72</td>\n",
       "      <td>Regular</td>\n",
       "    </tr>\n",
       "    <tr>\n",
       "      <th>778</th>\n",
       "      <td>154566</td>\n",
       "      <td>San Luis Obispo</td>\n",
       "      <td>372000.0</td>\n",
       "      <td>3</td>\n",
       "      <td>2</td>\n",
       "      <td>1104</td>\n",
       "      <td>336.96</td>\n",
       "      <td>Foreclosure</td>\n",
       "    </tr>\n",
       "    <tr>\n",
       "      <th>779</th>\n",
       "      <td>154575</td>\n",
       "      <td>Arroyo Grande</td>\n",
       "      <td>589000.0</td>\n",
       "      <td>3</td>\n",
       "      <td>2</td>\n",
       "      <td>1975</td>\n",
       "      <td>298.23</td>\n",
       "      <td>Regular</td>\n",
       "    </tr>\n",
       "    <tr>\n",
       "      <th>780</th>\n",
       "      <td>154580</td>\n",
       "      <td>Cambria</td>\n",
       "      <td>1100000.0</td>\n",
       "      <td>3</td>\n",
       "      <td>3</td>\n",
       "      <td>2392</td>\n",
       "      <td>459.87</td>\n",
       "      <td>Regular</td>\n",
       "    </tr>\n",
       "  </tbody>\n",
       "</table>\n",
       "<p>781 rows × 8 columns</p>\n",
       "</div>"
      ],
      "text/plain": [
       "        MLS            Location      Price  Bedrooms  Bathrooms  Size  \\\n",
       "0    132842       Arroyo Grande   795000.0         3          3  2371   \n",
       "1    134364         Paso Robles   399000.0         4          3  2818   \n",
       "2    135141         Paso Robles   545000.0         4          3  3032   \n",
       "3    135712           Morro Bay   909000.0         4          4  3540   \n",
       "4    136282  Santa Maria-Orcutt   109900.0         3          1  1249   \n",
       "..      ...                 ...        ...       ...        ...   ...   \n",
       "776  154562         Paso Robles   319900.0         3          3  1605   \n",
       "777  154565         Paso Robles   495000.0         3          2  1877   \n",
       "778  154566     San Luis Obispo   372000.0         3          2  1104   \n",
       "779  154575       Arroyo Grande   589000.0         3          2  1975   \n",
       "780  154580             Cambria  1100000.0         3          3  2392   \n",
       "\n",
       "     Price/SQ.Ft       Status  \n",
       "0         335.30   Short Sale  \n",
       "1         141.59   Short Sale  \n",
       "2         179.75   Short Sale  \n",
       "3         256.78   Short Sale  \n",
       "4          87.99   Short Sale  \n",
       "..           ...          ...  \n",
       "776       199.31      Regular  \n",
       "777       263.72      Regular  \n",
       "778       336.96  Foreclosure  \n",
       "779       298.23      Regular  \n",
       "780       459.87      Regular  \n",
       "\n",
       "[781 rows x 8 columns]"
      ]
     },
     "execution_count": 30,
     "metadata": {},
     "output_type": "execute_result"
    }
   ],
   "source": [
    "df"
   ]
  },
  {
   "cell_type": "code",
   "execution_count": 85,
   "metadata": {
    "scrolled": true
   },
   "outputs": [
    {
     "data": {
      "text/html": [
       "<div>\n",
       "<style scoped>\n",
       "    .dataframe tbody tr th:only-of-type {\n",
       "        vertical-align: middle;\n",
       "    }\n",
       "\n",
       "    .dataframe tbody tr th {\n",
       "        vertical-align: top;\n",
       "    }\n",
       "\n",
       "    .dataframe thead th {\n",
       "        text-align: right;\n",
       "    }\n",
       "</style>\n",
       "<table border=\"1\" class=\"dataframe\">\n",
       "  <thead>\n",
       "    <tr style=\"text-align: right;\">\n",
       "      <th></th>\n",
       "      <th>MLS</th>\n",
       "      <th>Price</th>\n",
       "      <th>Bedrooms</th>\n",
       "      <th>Bathrooms</th>\n",
       "      <th>Size</th>\n",
       "      <th>Price/SQ.Ft</th>\n",
       "      <th>Foreclosure</th>\n",
       "      <th>Regular</th>\n",
       "      <th>Short Sale</th>\n",
       "    </tr>\n",
       "  </thead>\n",
       "  <tbody>\n",
       "    <tr>\n",
       "      <th>0</th>\n",
       "      <td>0.000000</td>\n",
       "      <td>0.140429</td>\n",
       "      <td>0.3</td>\n",
       "      <td>0.2</td>\n",
       "      <td>0.336976</td>\n",
       "      <td>0.280785</td>\n",
       "      <td>0</td>\n",
       "      <td>0</td>\n",
       "      <td>1</td>\n",
       "    </tr>\n",
       "    <tr>\n",
       "      <th>1</th>\n",
       "      <td>0.070016</td>\n",
       "      <td>0.068068</td>\n",
       "      <td>0.4</td>\n",
       "      <td>0.2</td>\n",
       "      <td>0.403892</td>\n",
       "      <td>0.108646</td>\n",
       "      <td>0</td>\n",
       "      <td>0</td>\n",
       "      <td>1</td>\n",
       "    </tr>\n",
       "    <tr>\n",
       "      <th>2</th>\n",
       "      <td>0.105759</td>\n",
       "      <td>0.094746</td>\n",
       "      <td>0.4</td>\n",
       "      <td>0.2</td>\n",
       "      <td>0.435928</td>\n",
       "      <td>0.142556</td>\n",
       "      <td>0</td>\n",
       "      <td>0</td>\n",
       "      <td>1</td>\n",
       "    </tr>\n",
       "    <tr>\n",
       "      <th>3</th>\n",
       "      <td>0.132027</td>\n",
       "      <td>0.161261</td>\n",
       "      <td>0.4</td>\n",
       "      <td>0.3</td>\n",
       "      <td>0.511976</td>\n",
       "      <td>0.211009</td>\n",
       "      <td>0</td>\n",
       "      <td>0</td>\n",
       "      <td>1</td>\n",
       "    </tr>\n",
       "    <tr>\n",
       "      <th>4</th>\n",
       "      <td>0.158248</td>\n",
       "      <td>0.015240</td>\n",
       "      <td>0.3</td>\n",
       "      <td>0.0</td>\n",
       "      <td>0.169012</td>\n",
       "      <td>0.061014</td>\n",
       "      <td>0</td>\n",
       "      <td>0</td>\n",
       "      <td>1</td>\n",
       "    </tr>\n",
       "    <tr>\n",
       "      <th>...</th>\n",
       "      <td>...</td>\n",
       "      <td>...</td>\n",
       "      <td>...</td>\n",
       "      <td>...</td>\n",
       "      <td>...</td>\n",
       "      <td>...</td>\n",
       "      <td>...</td>\n",
       "      <td>...</td>\n",
       "      <td>...</td>\n",
       "    </tr>\n",
       "    <tr>\n",
       "      <th>776</th>\n",
       "      <td>0.999172</td>\n",
       "      <td>0.053614</td>\n",
       "      <td>0.3</td>\n",
       "      <td>0.2</td>\n",
       "      <td>0.222305</td>\n",
       "      <td>0.159938</td>\n",
       "      <td>0</td>\n",
       "      <td>1</td>\n",
       "      <td>0</td>\n",
       "    </tr>\n",
       "    <tr>\n",
       "      <th>777</th>\n",
       "      <td>0.999310</td>\n",
       "      <td>0.085610</td>\n",
       "      <td>0.3</td>\n",
       "      <td>0.1</td>\n",
       "      <td>0.263024</td>\n",
       "      <td>0.217176</td>\n",
       "      <td>0</td>\n",
       "      <td>1</td>\n",
       "      <td>0</td>\n",
       "    </tr>\n",
       "    <tr>\n",
       "      <th>778</th>\n",
       "      <td>0.999356</td>\n",
       "      <td>0.063134</td>\n",
       "      <td>0.3</td>\n",
       "      <td>0.1</td>\n",
       "      <td>0.147305</td>\n",
       "      <td>0.282260</td>\n",
       "      <td>1</td>\n",
       "      <td>0</td>\n",
       "      <td>0</td>\n",
       "    </tr>\n",
       "    <tr>\n",
       "      <th>779</th>\n",
       "      <td>0.999770</td>\n",
       "      <td>0.102787</td>\n",
       "      <td>0.3</td>\n",
       "      <td>0.1</td>\n",
       "      <td>0.277695</td>\n",
       "      <td>0.247843</td>\n",
       "      <td>0</td>\n",
       "      <td>1</td>\n",
       "      <td>0</td>\n",
       "    </tr>\n",
       "    <tr>\n",
       "      <th>780</th>\n",
       "      <td>1.000000</td>\n",
       "      <td>0.196163</td>\n",
       "      <td>0.3</td>\n",
       "      <td>0.2</td>\n",
       "      <td>0.340120</td>\n",
       "      <td>0.391483</td>\n",
       "      <td>0</td>\n",
       "      <td>1</td>\n",
       "      <td>0</td>\n",
       "    </tr>\n",
       "  </tbody>\n",
       "</table>\n",
       "<p>781 rows × 9 columns</p>\n",
       "</div>"
      ],
      "text/plain": [
       "          MLS     Price  Bedrooms  Bathrooms      Size  Price/SQ.Ft  \\\n",
       "0    0.000000  0.140429       0.3        0.2  0.336976     0.280785   \n",
       "1    0.070016  0.068068       0.4        0.2  0.403892     0.108646   \n",
       "2    0.105759  0.094746       0.4        0.2  0.435928     0.142556   \n",
       "3    0.132027  0.161261       0.4        0.3  0.511976     0.211009   \n",
       "4    0.158248  0.015240       0.3        0.0  0.169012     0.061014   \n",
       "..        ...       ...       ...        ...       ...          ...   \n",
       "776  0.999172  0.053614       0.3        0.2  0.222305     0.159938   \n",
       "777  0.999310  0.085610       0.3        0.1  0.263024     0.217176   \n",
       "778  0.999356  0.063134       0.3        0.1  0.147305     0.282260   \n",
       "779  0.999770  0.102787       0.3        0.1  0.277695     0.247843   \n",
       "780  1.000000  0.196163       0.3        0.2  0.340120     0.391483   \n",
       "\n",
       "     Foreclosure  Regular  Short Sale  \n",
       "0              0        0           1  \n",
       "1              0        0           1  \n",
       "2              0        0           1  \n",
       "3              0        0           1  \n",
       "4              0        0           1  \n",
       "..           ...      ...         ...  \n",
       "776            0        1           0  \n",
       "777            0        1           0  \n",
       "778            1        0           0  \n",
       "779            0        1           0  \n",
       "780            0        1           0  \n",
       "\n",
       "[781 rows x 9 columns]"
      ]
     },
     "execution_count": 85,
     "metadata": {},
     "output_type": "execute_result"
    }
   ],
   "source": [
    "df  = pd.read_csv('data/RealEstate.csv')\n",
    "df = df.drop('Location',axis = 1) \n",
    "df2 = df.drop('Status', axis=1)\n",
    "df_norm = (df2-df2.min())/(df2.max()-df2.min())\n",
    "df = pd.concat((df_norm, df.Status), 1)\n",
    "one_hot = pd.get_dummies(df['Status'])\n",
    "# Drop column B as it is now encoded\n",
    "df = df.drop('Status',axis = 1)\n",
    "# Join the encoded df\n",
    "df = df.join(one_hot)\n",
    "X, y = df.drop('Price', axis=1).values, df['Price'].values\n",
    "\n",
    "df"
   ]
  },
  {
   "cell_type": "code",
   "execution_count": 86,
   "metadata": {},
   "outputs": [
    {
     "data": {
      "text/plain": [
       "Ridge()"
      ]
     },
     "execution_count": 86,
     "metadata": {},
     "output_type": "execute_result"
    }
   ],
   "source": [
    "from sklearn.linear_model import RidgeCV\n",
    "from sklearn.model_selection import RepeatedKFold\n",
    "X, y = df.drop('Price', axis=1).values, df['Price'].values\n",
    "model = Ridge()\n",
    "cv = RepeatedKFold(n_splits=10, n_repeats=3, random_state=1)\n",
    "model.fit(X, y)"
   ]
  },
  {
   "cell_type": "code",
   "execution_count": 33,
   "metadata": {},
   "outputs": [
    {
     "data": {
      "text/plain": [
       "array([ 7.21834661e-01, -1.11368493e+04,  1.50762973e+04,  2.51783576e+02,\n",
       "        1.83973469e+03, -5.71473251e+03,  2.05842222e+04, -1.48694897e+04])"
      ]
     },
     "execution_count": 33,
     "metadata": {},
     "output_type": "execute_result"
    }
   ],
   "source": [
    "model.coef_"
   ]
  },
  {
   "cell_type": "code",
   "execution_count": 34,
   "metadata": {},
   "outputs": [
    {
     "ename": "TypeError",
     "evalue": "'Ridge' object is not callable",
     "output_type": "error",
     "traceback": [
      "\u001b[1;31m---------------------------------------------------------------------------\u001b[0m",
      "\u001b[1;31mTypeError\u001b[0m                                 Traceback (most recent call last)",
      "\u001b[1;32m<ipython-input-34-3ca421c2ee02>\u001b[0m in \u001b[0;36m<module>\u001b[1;34m\u001b[0m\n\u001b[0;32m      1\u001b[0m \u001b[0malphas\u001b[0m \u001b[1;33m=\u001b[0m \u001b[0mnp\u001b[0m\u001b[1;33m.\u001b[0m\u001b[0mlogspace\u001b[0m\u001b[1;33m(\u001b[0m\u001b[1;33m-\u001b[0m\u001b[1;36m3\u001b[0m\u001b[1;33m,\u001b[0m \u001b[1;33m-\u001b[0m\u001b[1;36m1\u001b[0m\u001b[1;33m,\u001b[0m \u001b[1;36m30\u001b[0m\u001b[1;33m)\u001b[0m\u001b[1;33m\u001b[0m\u001b[1;33m\u001b[0m\u001b[0m\n\u001b[1;32m----> 2\u001b[1;33m scores = [cross_val_score(model(alpha), X, y, cv=3).mean()\n\u001b[0m\u001b[0;32m      3\u001b[0m         for alpha in alphas]\n\u001b[0;32m      4\u001b[0m \u001b[0mplt\u001b[0m\u001b[1;33m.\u001b[0m\u001b[0mplot\u001b[0m\u001b[1;33m(\u001b[0m\u001b[0malphas\u001b[0m\u001b[1;33m,\u001b[0m \u001b[0mscores\u001b[0m\u001b[1;33m,\u001b[0m \u001b[0mlabel\u001b[0m\u001b[1;33m=\u001b[0m\u001b[0mmodel\u001b[0m\u001b[1;33m.\u001b[0m\u001b[0m__name__\u001b[0m\u001b[1;33m)\u001b[0m\u001b[1;33m\u001b[0m\u001b[1;33m\u001b[0m\u001b[0m\n",
      "\u001b[1;32m<ipython-input-34-3ca421c2ee02>\u001b[0m in \u001b[0;36m<listcomp>\u001b[1;34m(.0)\u001b[0m\n\u001b[0;32m      1\u001b[0m \u001b[0malphas\u001b[0m \u001b[1;33m=\u001b[0m \u001b[0mnp\u001b[0m\u001b[1;33m.\u001b[0m\u001b[0mlogspace\u001b[0m\u001b[1;33m(\u001b[0m\u001b[1;33m-\u001b[0m\u001b[1;36m3\u001b[0m\u001b[1;33m,\u001b[0m \u001b[1;33m-\u001b[0m\u001b[1;36m1\u001b[0m\u001b[1;33m,\u001b[0m \u001b[1;36m30\u001b[0m\u001b[1;33m)\u001b[0m\u001b[1;33m\u001b[0m\u001b[1;33m\u001b[0m\u001b[0m\n\u001b[1;32m----> 2\u001b[1;33m scores = [cross_val_score(model(alpha), X, y, cv=3).mean()\n\u001b[0m\u001b[0;32m      3\u001b[0m         for alpha in alphas]\n\u001b[0;32m      4\u001b[0m \u001b[0mplt\u001b[0m\u001b[1;33m.\u001b[0m\u001b[0mplot\u001b[0m\u001b[1;33m(\u001b[0m\u001b[0malphas\u001b[0m\u001b[1;33m,\u001b[0m \u001b[0mscores\u001b[0m\u001b[1;33m,\u001b[0m \u001b[0mlabel\u001b[0m\u001b[1;33m=\u001b[0m\u001b[0mmodel\u001b[0m\u001b[1;33m.\u001b[0m\u001b[0m__name__\u001b[0m\u001b[1;33m)\u001b[0m\u001b[1;33m\u001b[0m\u001b[1;33m\u001b[0m\u001b[0m\n",
      "\u001b[1;31mTypeError\u001b[0m: 'Ridge' object is not callable"
     ]
    }
   ],
   "source": [
    "alphas = np.logspace(-3, -1, 30)\n",
    "scores = [cross_val_score(model(alpha), X, y, cv=3).mean()\n",
    "        for alpha in alphas]\n",
    "plt.plot(alphas, scores, label=model.__name__)"
   ]
  },
  {
   "cell_type": "code",
   "execution_count": 64,
   "metadata": {},
   "outputs": [
    {
     "name": "stdout",
     "output_type": "stream",
     "text": [
      "Ridge: -25653803084.242752\n",
      "Lasso: -25566083729.07792\n"
     ]
    }
   ],
   "source": [
    "from sklearn.model_selection import cross_val_score\n",
    "from sklearn.linear_model import Ridge, Lasso\n",
    "\n",
    "for Model in [Ridge, Lasso]:\n",
    "    model = Model()\n",
    "    print('%s: %s' % (Model.__name__,\n",
    "                      cross_val_score(model, X, y,cv=5,scoring='neg_mean_squared_error').mean()))"
   ]
  },
  {
   "cell_type": "code",
   "execution_count": 87,
   "metadata": {},
   "outputs": [
    {
     "data": {
      "image/png": "[encoded data removed]",
      "text/plain": [
       "<Figure size 360x216 with 1 Axes>"
      ]
     },
     "metadata": {
      "needs_background": "light"
     },
     "output_type": "display_data"
    },
    {
     "name": "stdout",
     "output_type": "stream",
     "text": [
      "Wall time: 860 ms\n"
     ]
    }
   ],
   "source": [
    "\n",
    "%%time\n",
    "import numpy as np\n",
    "from matplotlib import pyplot as plt\n",
    "\n",
    "alphas = list(range(80, 150))\n",
    "\n",
    "plt.figure(figsize=(5, 3))\n",
    "\n",
    "for Model in [Ridge]:\n",
    "    scores = [cross_val_score(Model(alpha),  X, y, cv=5,scoring='neg_mean_squared_error').mean()\n",
    "            for alpha in alphas]\n",
    "    plt.plot(alphas, scores, label=Model.__name__)\n",
    "\n",
    "plt.legend(loc='lower left')\n",
    "plt.xlabel('alpha')\n",
    "plt.ylabel('cross validation score')\n",
    "plt.tight_layout()\n",
    "plt.show()"
   ]
  },
  {
   "cell_type": "code",
   "execution_count": 115,
   "metadata": {},
   "outputs": [
    {
     "data": {
      "text/plain": [
       "[<matplotlib.lines.Line2D at 0x1ebe6af21f0>]"
      ]
     },
     "execution_count": 115,
     "metadata": {},
     "output_type": "execute_result"
    },
    {
     "data": {
      "image/png": "[encoded data removed]",
      "text/plain": [
       "<Figure size 432x288 with 1 Axes>"
      ]
     },
     "metadata": {
      "needs_background": "light"
     },
     "output_type": "display_data"
    }
   ],
   "source": [
    "from sklearn.model_selection import KFold\n",
    "df  = pd.read_csv('data/RealEstate.csv')\n",
    "df = df.drop('Location',axis = 1) \n",
    "#df2 = df.drop('Status', axis=1)\n",
    "#df_norm = (df2-df2.min())/(df2.max()-df2.min())\n",
    "#df = pd.concat((df_norm, df.Status), 1)\n",
    "one_hot = pd.get_dummies(df['Status'])\n",
    "# Drop column B as it is now encoded\n",
    "df = df.drop('Status',axis = 1)\n",
    "# Join the encoded df\n",
    "df = df.join(one_hot)\n",
    "X, y = df.drop('Price', axis=1).values, df['Price'].values\n",
    "alphas =  list(range(1, 150))\n",
    "kf = KFold(n_splits=5, shuffle=True, random_state=123)\n",
    "kf.get_n_splits(X)\n",
    "scores = [cross_val_score(Ridge(alpha),  X, y, cv=kf,scoring='neg_mean_squared_error').mean()\n",
    "        for alpha in alphas]\n",
    "plt.plot(alphas, scores, label=Model.__name__)"
   ]
  },
  {
   "cell_type": "code",
   "execution_count": 114,
   "metadata": {},
   "outputs": [
    {
     "data": {
      "text/plain": [
       "[<matplotlib.lines.Line2D at 0x1ebe5abe070>]"
      ]
     },
     "execution_count": 114,
     "metadata": {},
     "output_type": "execute_result"
    },
    {
     "data": {
      "image/png": "[encoded data removed]",
      "text/plain": [
       "<Figure size 432x288 with 1 Axes>"
      ]
     },
     "metadata": {
      "needs_background": "light"
     },
     "output_type": "display_data"
    }
   ],
   "source": [
    "alphas =  np.linspace(1,8000, num=1000)\n",
    "kf = KFold(n_splits=5, shuffle=True, random_state=123)\n",
    "kf.get_n_splits(X)\n",
    "scores = [cross_val_score(Lasso(alpha),  X, y, cv=kf,scoring='neg_mean_squared_error').mean()\n",
    "        for alpha in alphas]\n",
    "plt.plot(alphas, scores, label=Model.__name__)"
   ]
  },
  {
   "cell_type": "code",
   "execution_count": 71,
   "metadata": {},
   "outputs": [],
   "source": [
    "model = Ridge(alpha = 1)\n",
    "\n",
    "kf = KFold(n_splits=5, shuffle=True, random_state=2)\n",
    "\n",
    "kf.get_n_splits(X)\n",
    "m = cross_val_score(model , X, y,cv = kf, scoring = 'neg_mean_squared_error' ).mean()"
   ]
  },
  {
   "cell_type": "markdown",
   "metadata": {},
   "source": [
    "m"
   ]
  },
  {
   "cell_type": "code",
   "execution_count": 90,
   "metadata": {
    "scrolled": true
   },
   "outputs": [
    {
     "data": {
      "text/plain": [
       "[<matplotlib.lines.Line2D at 0x1ebe409abb0>]"
      ]
     },
     "execution_count": 90,
     "metadata": {},
     "output_type": "execute_result"
    },
    {
     "data": {
      "image/png": "[encoded data removed]",
      "text/plain": [
       "<Figure size 432x288 with 1 Axes>"
      ]
     },
     "metadata": {
      "needs_background": "light"
     },
     "output_type": "display_data"
    }
   ],
   "source": [
    "from sklearn.model_selection import KFold\n",
    "alphas = np.linspace(1,10000, num=1000)\n",
    "kf = KFold(n_splits=5, shuffle=True, random_state=1)\n",
    "kf.get_n_splits(X)\n",
    "scores = [cross_val_score(Lasso(alpha),  X, y, cv=kf,scoring='neg_mean_squared_error').mean()\n",
    "        for alpha in alphas]\n",
    "plt.plot(alphas, scores, label=Model.__name__)"
   ]
  },
  {
   "cell_type": "code",
   "execution_count": 2,
   "metadata": {},
   "outputs": [
    {
     "name": "stdout",
     "output_type": "stream",
     "text": [
      "optimal parameter 17\n"
     ]
    },
    {
     "data": {
      "text/plain": [
       "[<matplotlib.lines.Line2D at 0x24c20521100>]"
      ]
     },
     "execution_count": 2,
     "metadata": {},
     "output_type": "execute_result"
    },
    {
     "data": {
      "image/png": "[encoded data removed]",
      "text/plain": [
       "<Figure size 432x288 with 1 Axes>"
      ]
     },
     "metadata": {
      "needs_background": "light"
     },
     "output_type": "display_data"
    }
   ],
   "source": [
    "import pandas as pd\n",
    "import numpy as np\n",
    "import sklearn\n",
    "import matplotlib.pyplot as plt\n",
    "from sklearn.linear_model import Ridge\n",
    "from sklearn.model_selection import cross_val_score\n",
    "from sklearn.model_selection import KFold\n",
    "from sklearn import preprocessing\n",
    "df  = pd.read_csv('data/RealEstate.csv')\n",
    "df = df.drop('Location',axis = 1) \n",
    "one_hot = pd.get_dummies(df['Status'])\n",
    "df = df.drop('Status',axis = 1)\n",
    "names=df.columns\n",
    "df = preprocessing.scale(df)\n",
    "df = pd.DataFrame(df,columns=names).join(one_hot)\n",
    "X, y = df.drop('Price', axis=1).values, df['Price'].values\n",
    "seed=999\n",
    "ran = np.linspace(1,150, num=150)\n",
    "scorelist=[]\n",
    "for alpha in ran:\n",
    "    model = Ridge(alpha = alpha, random_state= seed)\n",
    "    kf = KFold(n_splits=5, shuffle=True, random_state= seed)\n",
    "    kf.get_n_splits(X)\n",
    "    m = cross_val_score(model , X, y,cv = kf, scoring = 'neg_mean_squared_error' ).mean()\n",
    "    scorelist.append(-m)\n",
    "print(\"optimal parameter\",np.argmin(scorelist))    \n",
    "plt.plot(scorelist)"
   ]
  },
  {
   "cell_type": "code",
   "execution_count": 5,
   "metadata": {},
   "outputs": [
    {
     "data": {
      "text/plain": [
       "['MLS',\n",
       " 'Bedrooms',\n",
       " 'Bathrooms',\n",
       " 'Size',\n",
       " 'Price/SQ.Ft',\n",
       " 'Foreclosure',\n",
       " 'Regular',\n",
       " 'Short Sale']"
      ]
     },
     "execution_count": 5,
     "metadata": {},
     "output_type": "execute_result"
    }
   ],
   "source": [
    "name=df.columns.values.tolist()\n",
    "name.remove(\"Price\")\n",
    "name"
   ]
  },
  {
   "cell_type": "code",
   "execution_count": 6,
   "metadata": {},
   "outputs": [
    {
     "data": {
      "text/html": [
       "<div>\n",
       "<style scoped>\n",
       "    .dataframe tbody tr th:only-of-type {\n",
       "        vertical-align: middle;\n",
       "    }\n",
       "\n",
       "    .dataframe tbody tr th {\n",
       "        vertical-align: top;\n",
       "    }\n",
       "\n",
       "    .dataframe thead th {\n",
       "        text-align: right;\n",
       "    }\n",
       "</style>\n",
       "<table border=\"1\" class=\"dataframe\">\n",
       "  <thead>\n",
       "    <tr style=\"text-align: right;\">\n",
       "      <th></th>\n",
       "      <th>name</th>\n",
       "      <th>coef</th>\n",
       "    </tr>\n",
       "  </thead>\n",
       "  <tbody>\n",
       "    <tr>\n",
       "      <th>0</th>\n",
       "      <td>MLS</td>\n",
       "      <td>0.844626</td>\n",
       "    </tr>\n",
       "    <tr>\n",
       "      <th>1</th>\n",
       "      <td>Bedrooms</td>\n",
       "      <td>-10462.245996</td>\n",
       "    </tr>\n",
       "    <tr>\n",
       "      <th>2</th>\n",
       "      <td>Bathrooms</td>\n",
       "      <td>13777.895603</td>\n",
       "    </tr>\n",
       "    <tr>\n",
       "      <th>3</th>\n",
       "      <td>Size</td>\n",
       "      <td>252.500715</td>\n",
       "    </tr>\n",
       "    <tr>\n",
       "      <th>4</th>\n",
       "      <td>Price/SQ.Ft</td>\n",
       "      <td>1844.772393</td>\n",
       "    </tr>\n",
       "    <tr>\n",
       "      <th>5</th>\n",
       "      <td>Foreclosure</td>\n",
       "      <td>-4538.367586</td>\n",
       "    </tr>\n",
       "    <tr>\n",
       "      <th>6</th>\n",
       "      <td>Regular</td>\n",
       "      <td>17889.688371</td>\n",
       "    </tr>\n",
       "    <tr>\n",
       "      <th>7</th>\n",
       "      <td>Short Sale</td>\n",
       "      <td>-13351.320785</td>\n",
       "    </tr>\n",
       "  </tbody>\n",
       "</table>\n",
       "</div>"
      ],
      "text/plain": [
       "          name          coef\n",
       "0          MLS      0.844626\n",
       "1     Bedrooms -10462.245996\n",
       "2    Bathrooms  13777.895603\n",
       "3         Size    252.500715\n",
       "4  Price/SQ.Ft   1844.772393\n",
       "5  Foreclosure  -4538.367586\n",
       "6      Regular  17889.688371\n",
       "7   Short Sale -13351.320785"
      ]
     },
     "execution_count": 6,
     "metadata": {},
     "output_type": "execute_result"
    }
   ],
   "source": [
    "model = Ridge(alpha = 17, random_state= seed)\n",
    "kf = KFold(n_splits=5, shuffle=True, random_state= seed)\n",
    "kf.get_n_splits(X)\n",
    "model.fit(X, y)\n",
    "coef=model.coef_.tolist()\n",
    "name=df.columns.values.tolist()\n",
    "name.remove(\"Price\")\n",
    "coef_set = pd.DataFrame({'name': name, 'coef': coef}, columns=['name', 'coef'])\n",
    "coef_set"
   ]
  },
  {
   "cell_type": "code",
   "execution_count": 14,
   "metadata": {},
   "outputs": [
    {
     "name": "stdout",
     "output_type": "stream",
     "text": [
      "\n"
     ]
    },
    {
     "data": {
      "image/png": "[encoded data removed]",
      "text/plain": [
       "<Figure size 432x288 with 1 Axes>"
      ]
     },
     "metadata": {
      "needs_background": "light"
     },
     "output_type": "display_data"
    }
   ],
   "source": [
    "\n",
    "from sklearn.linear_model import Ridge, Lasso\n",
    "df  = pd.read_csv('data/RealEstate.csv')\n",
    "df = df.drop('Location',axis = 1) \n",
    "one_hot = pd.get_dummies(df['Status'])\n",
    "df = df.drop('Status',axis = 1)\n",
    "df = df.join(one_hot)\n",
    "X, y = df.drop('Price', axis=1).values, df['Price'].values\n",
    "ran = np.linspace(6900,6910, num=10)\n",
    "scorelist=[]\n",
    "for alpha in ran:\n",
    "    model = Lasso(alpha = alpha, random_state= 123)\n",
    "    kf = KFold(n_splits=5, shuffle=True, random_state= 123)\n",
    "    kf.get_n_splits(X)\n",
    "    m = cross_val_score(model , X, y,cv = kf, scoring = 'neg_mean_squared_error' ).mean()\n",
    "    scorelist.append(-m)\n",
    "plt.plot(scorelist)\n",
    "print()"
   ]
  },
  {
   "cell_type": "code",
   "execution_count": 15,
   "metadata": {},
   "outputs": [
    {
     "data": {
      "text/html": [
       "<div>\n",
       "<style scoped>\n",
       "    .dataframe tbody tr th:only-of-type {\n",
       "        vertical-align: middle;\n",
       "    }\n",
       "\n",
       "    .dataframe tbody tr th {\n",
       "        vertical-align: top;\n",
       "    }\n",
       "\n",
       "    .dataframe thead th {\n",
       "        text-align: right;\n",
       "    }\n",
       "</style>\n",
       "<table border=\"1\" class=\"dataframe\">\n",
       "  <thead>\n",
       "    <tr style=\"text-align: right;\">\n",
       "      <th></th>\n",
       "      <th>name</th>\n",
       "      <th>coef</th>\n",
       "    </tr>\n",
       "  </thead>\n",
       "  <tbody>\n",
       "    <tr>\n",
       "      <th>0</th>\n",
       "      <td>MLS</td>\n",
       "      <td>1.802586</td>\n",
       "    </tr>\n",
       "    <tr>\n",
       "      <th>1</th>\n",
       "      <td>Bedrooms</td>\n",
       "      <td>-0.000000</td>\n",
       "    </tr>\n",
       "    <tr>\n",
       "      <th>2</th>\n",
       "      <td>Bathrooms</td>\n",
       "      <td>0.000000</td>\n",
       "    </tr>\n",
       "    <tr>\n",
       "      <th>3</th>\n",
       "      <td>Size</td>\n",
       "      <td>257.603057</td>\n",
       "    </tr>\n",
       "    <tr>\n",
       "      <th>4</th>\n",
       "      <td>Price/SQ.Ft</td>\n",
       "      <td>1889.154283</td>\n",
       "    </tr>\n",
       "    <tr>\n",
       "      <th>5</th>\n",
       "      <td>Foreclosure</td>\n",
       "      <td>0.000000</td>\n",
       "    </tr>\n",
       "    <tr>\n",
       "      <th>6</th>\n",
       "      <td>Regular</td>\n",
       "      <td>0.000000</td>\n",
       "    </tr>\n",
       "    <tr>\n",
       "      <th>7</th>\n",
       "      <td>Short Sale</td>\n",
       "      <td>-0.000000</td>\n",
       "    </tr>\n",
       "  </tbody>\n",
       "</table>\n",
       "</div>"
      ],
      "text/plain": [
       "          name         coef\n",
       "0          MLS     1.802586\n",
       "1     Bedrooms    -0.000000\n",
       "2    Bathrooms     0.000000\n",
       "3         Size   257.603057\n",
       "4  Price/SQ.Ft  1889.154283\n",
       "5  Foreclosure     0.000000\n",
       "6      Regular     0.000000\n",
       "7   Short Sale    -0.000000"
      ]
     },
     "execution_count": 15,
     "metadata": {},
     "output_type": "execute_result"
    }
   ],
   "source": [
    "model = Lasso(alpha = 6903, random_state= seed)\n",
    "kf = KFold(n_splits=5, shuffle=True, random_state= seed)\n",
    "kf.get_n_splits(X)\n",
    "model.fit(X, y)\n",
    "coef=model.coef_.tolist()\n",
    "name=df.columns.values.tolist()\n",
    "name.remove(\"Price\")\n",
    "coef_set = pd.DataFrame({'name': name, 'coef': coef}, columns=['name', 'coef'])\n",
    "coef_set"
   ]
  },
  {
   "cell_type": "code",
   "execution_count": 93,
   "metadata": {},
   "outputs": [
    {
     "data": {
      "text/plain": [
       "11.551020408163264"
      ]
     },
     "execution_count": 93,
     "metadata": {},
     "output_type": "execute_result"
    }
   ],
   "source": [
    "x1=1\n",
    "x2=0.5\n",
    "xtest=0.5\n",
    "beta0=1\n",
    "beta1=1\n",
    "alpha1=2\n",
    "alpha2=1\n",
    "X=np.array([x1,x2]).T\n",
    "beta=np.array([beta0,beta1]).T\n",
    "W=np.array([[1/alpha1,0],[0,1/alpha2]])\n",
    "Win=np.array([[alpha1,0],[0,alpha2]])\n",
    "lamb=1\n",
    "I=np.array([[1,0],[0,1]])\n",
    "bias=lamb*X.T@((X.T@W@X+lamb*I)**-1)@beta\n",
    "var=(((X.T@W@X+lamb*I)**-1)@X.T@W)@(Win)@(((X.T@W@X+lamb*I)**-1)@X.T@W).T\n",
    "bias**2+var"
   ]
  },
  {
   "cell_type": "code",
   "execution_count": 94,
   "metadata": {},
   "outputs": [
    {
     "data": {
      "text/plain": [
       "[<matplotlib.lines.Line2D at 0x24c21f1c130>]"
      ]
     },
     "execution_count": 94,
     "metadata": {},
     "output_type": "execute_result"
    },
    {
     "data": {
      "image/png": "[encoded data removed]",
      "text/plain": [
       "<Figure size 432x288 with 1 Axes>"
      ]
     },
     "metadata": {
      "needs_background": "light"
     },
     "output_type": "display_data"
    }
   ],
   "source": [
    "\n",
    "an=[]\n",
    "biaslist=[]\n",
    "varlist=[]\n",
    "for lamb in np.linspace(0.01,2, num=1000):\n",
    "    bias=lamb*X.T@((X.T@W@X+lamb*I)**-1)@beta\n",
    "    var=(((X.T@W@X+lamb*I)**-1)@X.T@W)@(Win)@(((X.T@W@X+lamb*I)**-1)@X.T@W).T\n",
    "    an.append(np.log(bias**2+var))\n",
    "    biaslist.append(np.log(bias**2))\n",
    "    varlist.append(np.log(var))\n",
    "plt.plot(an)\n",
    "plt.plot(biaslist)\n",
    "plt.plot(varlist)"
   ]
  },
  {
   "cell_type": "code",
   "execution_count": null,
   "metadata": {},
   "outputs": [],
   "source": [
    "1.9764705882352942"
   ]
  },
  {
   "cell_type": "code",
   "execution_count": null,
   "metadata": {},
   "outputs": [],
   "source": [
    "from sklearn.linear_model import RidgeCV\n",
    "from sklearn.model_selection import RepeatedKFold\n",
    "X, y = input_data.drop('Price', axis=1).values, input_data['Price'].values\n",
    "model = Ridge()\n",
    "cv = RepeatedKFold(n_splits=10, n_repeats=3, random_state=1)\n",
    "model.fit(X, y)\n",
    "import pandas as pd \n",
    "import numpy as np  \n",
    "import sklearn     \n",
    "import matplotlib.pyplot as plt \n",
    "from sklearn.tree import DecisionTreeClassifier \n",
    "from sklearn.model_selection import train_test_split \n",
    "from sklearn import metrics     \n",
    "from sklearn import tree        \n",
    "from sklearn.ensemble import RandomForestClassifier  \n",
    "name=[\"word_freq_make\", \"word_freq_address\", \"word_freq_all \", \"word_freq_3d\"  , \"word_freq_our \", \"word_freq_over\", \"word_freq_remove \" ,\" word_freq_internet\" , \"word_freq_order\"   , \"word_freq_mail\", \"word_freq_receive\", \"word_freq_will\", \"word_freq_people\"  , \"word_freq_report\", \"word_freq_addresses\", \"word_freq_free\", \"word_freq_business\"  , \"word_freq_email\"   , \"word_freq_you \", \"word_freq_credit\"  , \"word_freq_your\", \"word_freq_font\", \"word_freq_000 \", \"word_freq_money\"   , \"word_freq_hp\", \"word_freq_hpl\", \"word_freq_george\", \"word_freq_650\", \"word_freq_lab \", \"word_freq_labs\", \"word_freq_telnet\"  , \"word_freq_857 \", \"word_freq_data\", \"word_freq_415 \", \"word_freq_85\"  , \"word_freq_technology\"  , \"word_freq_1999\", \"word_freq_parts\"   , \"word_freq_pm\"  , \"word_freq_direct\"  , \"word_freq_cs\"  , \"word_freq_meeting \", \"word_freq_original\"    , \"word_freq_project \", \"word_freq_re\"  , \"word_freq_edu\", \"word_freq_table\"   , \"word_freq_conference\"  , \"char_freq_;\"   , \"char_freq_(\"   , \"char_freq_[\"   , \"char_freq_!\"   , \"char_freq_$\"   , \"char_freq_#\"   , \"capital_run_length_average \", \"capital_run_length_longest\", \"capital_run_length_total\",\"spam\"] \n",
    "df  = pd.read_csv('data/spambase.data', names=name)  \n",
    "X = df[['word_freq_george','word_freq_650']]\n",
    "y=df['spam']\n",
    "X_train, X_test, y_train, y_test = train_test_split(X, y, test_size=0.2, random_state=1) \n",
    "  \n",
    "clf = DecisionTreeClassifier(criterion=\"entropy\", max_depth=3)                            \n",
    "clf = clf.fit(X_train,y_train)  \n",
    "y_pred = clf.predict(X_test)    print(\"Accuracy:\",metrics.accuracy_score(y_test, y_pred))    \n",
    "fig = plt.figure(figsize=(50,50))               _ = tree.plot_tree(clf,                            feature_names=X.columns,                        class_names=\"spams\",                            filled=True) \n",
    "clf2 = RandomForestClassifier(max_depth=20, random_state=0)                             clf2 = clf2.fit(X_train,y_train)                y_pred2 = clf2.predict(X_test)  \n",
    "print(\"Accuracy2:\",metrics.accuracy_score(y_test, y_pred2))                                                 errlist=[]          for i in range(1,100):              clf2 = RandomForestClassifier(n_estimators=i, random_state=0)                           clf2 = clf2.fit(X_train,y_train)                y_pred2 = clf2.predict(X_test)                  errlist.append(metrics.accuracy_score(y_test, y_pred2))                             plt.plot(errlist)                                                                                                       import pandas as pd \n",
    "import numpy as np  \n",
    "import sklearn      import matplotlib.pyplot as plt \n",
    "from sklearn.model_selection import cross_val_score  \n",
    "from sklearn.linear_model import Ridge, Lasso   from sklearn.linear_model import RidgeCV        from sklearn.model_selection import RepeatedKFold    from sklearn import preprocessing               from sklearn.model_selection import KFold       df  = pd.read_csv('data/RealEstate.csv')        one_hot = pd.get_dummies(df['Status'])          df = df.drop('Location',axis = 1)               df = df.drop('Status',axis = 1) \n",
    "name=df.columns     df = preprocessing.scale(df)    df = pd.DataFrame(df,columns=name).join(one_hot)     df                  kf=sklearn.model_selection.KFold(n_splits=5, shuffle=True, random_state=1)              X, y = df.drop('Price', axis=1).values, df['Price'].values                              for Model in [Ridge, Lasso]:        model = Model() \n",
    "    print('%s: %s' % (Model.__name__,                                 cross_val_score(model, X, y,scoring = 'neg_mean_squared_error').mean())) \n",
    "                    alphas = myList = np.linspace(1,150,1000)                           plt.figure(figsize=(5, 3))      for Model in [Ridge]:               scores = [cross_val_score(Model(alpha), X, y, cv=kf ).mean()                                    for alpha in alphas]                    plt.plot(alphas, scores, label=Model.__name__)                       plt.legend(loc='lower left')    plt.xlabel('alpha') \n",
    "plt.ylabel('cross validation score')            plt.tight_layout()  \n",
    "plt.show()                                                                                          df  = pd.read_csv('data/RealEstate.csv')        one_hot = pd.get_dummies(df['Status'])          df = df.drop('Location',axis = 1)               df = df.drop('Status',axis = 1) \n",
    "name=df.columns     #df = preprocessing.scale(df)   #df = pd.DataFrame(df,columns=name).join(one_hot)    df=df.join(one_hot) \n",
    "alphas = myList = np.linspace(6000,8000,2000)   X, y = df.drop('Price', axis=1).values, df['Price'].values                              for Model in [Ridge, Lasso]:        model = Model() \n",
    "    print('%s: %s' % (Model.__name__,                                 cross_val_score(model, X, y).mean()))                               plt.figure(figsize=(5, 3))      kf=sklearn.model_selection.KFold(n_splits=5, shuffle=True, random_state=123)  \n",
    "          for Model in [Lasso]:               scores = [cross_val_score(Model(alpha), X, y, cv=kf,scoring = 'neg_mean_squared_error' ).mean() \n",
    "            for alpha in alphas]                    plt.plot(alphas, scores, label=Model.__name__)                       plt.legend(loc='lower left')    plt.xlabel('alpha') \n",
    "plt.ylabel('cross validation score')            plt.tight_layout()  \n",
    "plt.show()\"                                                                                                                                                                                  "
   ]
  }
 ],
 "metadata": {
  "kernelspec": {
   "display_name": "Python 3",
   "language": "python",
   "name": "python3"
  },
  "language_info": {
   "codemirror_mode": {
    "name": "ipython",
    "version": 3
   },
   "file_extension": ".py",
   "mimetype": "text/x-python",
   "name": "python",
   "nbconvert_exporter": "python",
   "pygments_lexer": "ipython3",
   "version": "3.8.5"
  }
 },
 "nbformat": 4,
 "nbformat_minor": 4
}
